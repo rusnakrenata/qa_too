{
 "cells": [
  {
   "cell_type": "code",
   "execution_count": 12,
   "id": "0e0df959",
   "metadata": {},
   "outputs": [],
   "source": [
    "import geopandas as gpd\n",
    "from shapely.geometry import Point\n",
    "from sqlalchemy.orm import sessionmaker\n",
    "from config import CITY_NAME\n",
    "from get_city_graph import get_city_graph\n",
    "from get_city_data_from_db import get_city_data_from_db\n",
    "from db_config import *\n",
    "\n"
   ]
  },
  {
   "cell_type": "code",
   "execution_count": 13,
   "id": "4c947f4e",
   "metadata": {},
   "outputs": [],
   "source": [
    "session = Session()"
   ]
  },
  {
   "cell_type": "code",
   "execution_count": 14,
   "id": "215a9867",
   "metadata": {},
   "outputs": [],
   "source": [
    "nodes, edges_gdf = get_city_data_from_db(session, 15)\n"
   ]
  },
  {
   "cell_type": "code",
   "execution_count": 16,
   "id": "c49d5d58",
   "metadata": {},
   "outputs": [
    {
     "name": "stdout",
     "output_type": "stream",
     "text": [
      "      edge_id                                           geometry\n",
      "0      561339  LINESTRING (21.21594 48.71262, 21.21583 48.71277)\n",
      "1      561340  LINESTRING (21.21594 48.71262, 21.21599 48.712...\n",
      "2      561341  LINESTRING (21.21692 48.72106, 21.21708 48.72115)\n",
      "3      561342  LINESTRING (21.21692 48.72106, 21.21644 48.720...\n",
      "4      561343  LINESTRING (21.21692 48.72106, 21.21698 48.720...\n",
      "...       ...                                                ...\n",
      "7421   568760  LINESTRING (21.27114 48.67143, 21.27122 48.671...\n",
      "7422   568761  LINESTRING (21.27134 48.67157, 21.27124 48.67155)\n",
      "7423   568762  LINESTRING (21.27134 48.67157, 21.27158 48.671...\n",
      "7424   568763  LINESTRING (21.27124 48.67155, 21.27115 48.671...\n",
      "7425   568764  LINESTRING (21.27124 48.67155, 21.27116 48.671...\n",
      "\n",
      "[7426 rows x 2 columns]\n"
     ]
    }
   ],
   "source": [
    "print(edges_gdf)"
   ]
  },
  {
   "cell_type": "code",
   "execution_count": 23,
   "id": "dfbd54b9",
   "metadata": {},
   "outputs": [],
   "source": [
    "\n",
    "# 1. Define Steel Aréna Parking Coordinates (in WGS84)\n",
    "parking_coords = (48.719390, 21.258057)  # lat, lon\n",
    "parking_point = Point(parking_coords[1], parking_coords[0])  # lon, lat"
   ]
  },
  {
   "cell_type": "code",
   "execution_count": 25,
   "id": "c6b5dbbe",
   "metadata": {},
   "outputs": [],
   "source": [
    "\n",
    "\n",
    "# 2. Ensure edges_gdf has correct CRS (EPSG:4326)\n",
    "if edges_gdf.crs is None:\n",
    "    edges_gdf.set_crs(epsg=4326, inplace=True)"
   ]
  },
  {
   "cell_type": "code",
   "execution_count": 26,
   "id": "8af921e8",
   "metadata": {},
   "outputs": [],
   "source": [
    "# 3. Reproject both edges and point to EPSG:32634 (UTM zone 34N)\n",
    "edges_projected = edges_gdf.to_crs(epsg=32634)\n",
    "parking_projected = gpd.GeoSeries([parking_point], crs='EPSG:4326').to_crs(epsg=32634).iloc[0]"
   ]
  },
  {
   "cell_type": "code",
   "execution_count": 27,
   "id": "9b612815",
   "metadata": {},
   "outputs": [],
   "source": [
    "# 4. Compute distance from point to each edge\n",
    "edges_projected['distance_to_parking'] = edges_projected.geometry.distance(parking_projected)"
   ]
  },
  {
   "cell_type": "code",
   "execution_count": 28,
   "id": "55c53ca6",
   "metadata": {},
   "outputs": [],
   "source": [
    "# 5. Find the closest edge\n",
    "min_idx = edges_projected['distance_to_parking'].idxmin()\n",
    "nearest_edge = edges_projected.loc[min_idx]"
   ]
  },
  {
   "cell_type": "code",
   "execution_count": 29,
   "id": "4c840f16",
   "metadata": {},
   "outputs": [
    {
     "name": "stdout",
     "output_type": "stream",
     "text": [
      "Nearest edge to Steel Arena parking is edge_id=564114 at 98.58 meters.\n"
     ]
    }
   ],
   "source": [
    "print(f\"Nearest edge to Steel Arena parking is edge_id={nearest_edge['edge_id']} at {nearest_edge['distance_to_parking']:.2f} meters.\")"
   ]
  },
  {
   "cell_type": "code",
   "execution_count": null,
   "id": "14c037f2",
   "metadata": {},
   "outputs": [],
   "source": []
  }
 ],
 "metadata": {
  "kernelspec": {
   "display_name": "venv",
   "language": "python",
   "name": "python3"
  },
  "language_info": {
   "codemirror_mode": {
    "name": "ipython",
    "version": 3
   },
   "file_extension": ".py",
   "mimetype": "text/x-python",
   "name": "python",
   "nbconvert_exporter": "python",
   "pygments_lexer": "ipython3",
   "version": "3.13.2"
  }
 },
 "nbformat": 4,
 "nbformat_minor": 5
}
