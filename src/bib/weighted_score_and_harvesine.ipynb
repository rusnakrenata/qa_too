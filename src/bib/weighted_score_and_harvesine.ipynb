{
 "cells": [
  {
   "cell_type": "markdown",
   "id": "628a09af",
   "metadata": {},
   "source": []
  },
  {
   "cell_type": "markdown",
   "id": "e7f6a80d",
   "metadata": {},
   "source": [
    "## Justification for Selected Techniques\n",
    "In this analysis, we utilize the Haversine formula and weighted congestion scoring to accurately and effectively quantify congestion and route efficiency:\n",
    "\n",
    "Haversine Formula:\n",
    "The Haversine formula calculates distances between geographic coordinates accurately by considering Earth’s curvature. This formula is preferred over simpler Euclidean approximations, especially in urban and regional contexts, where ignoring curvature could lead to meaningful inaccuracies over distances greater than several kilometers. Its computational simplicity and sufficient accuracy make it ideal for real-time traffic applications (Sinnott, 1984).\n",
    "\n",
    "```\n",
    "Reference:\n",
    "Sinnott, R.W. (1984). Virtues of the Haversine, Sky and Telescope, 68(2), 159.\n",
    "```\n",
    "\n",
    "Weighted Congestion Scoring:\n",
    "Rather than using a binary criterion (close or not close), weighted scoring accounts for both proximity and relative speed of vehicles, providing a nuanced, realistic representation of congestion severity. Vehicles in close proximity and at similar speeds contribute more heavily to congestion, aligning the scoring method closely with real-world congestion dynamics (Daganzo, 1997).\n",
    "\n",
    "```\n",
    "Reference:\n",
    "Daganzo, C.F. (1997). Fundamentals of Transportation and Traffic Operations. Pergamon, Elsevier Science.\n",
    "```\n",
    "\n",
    "Optimal Baseline Comparison:\n",
    "Comparing route durations and distances to minimal achievable values clearly quantifies inefficiencies. These explicit baselines enable straightforward interpretation, showing exactly how far actual vehicle paths deviate from optimal conditions, a crucial input for optimization algorithms (Sheffi, 1985).\n",
    "\n",
    "```\n",
    "Reference:\n",
    "Sheffi, Y. (1985). Urban Transportation Networks: Equilibrium Analysis with Mathematical Programming Methods. Prentice-Hall, Inc.\n",
    "```"
   ]
  },
  {
   "cell_type": "markdown",
   "id": "a113c8ac",
   "metadata": {},
   "source": [
    "## Critical Reviewer Perspective on Using the Haversine Formula:\n",
    "\n",
    "As a reviewer, I'd ask the following questions for justification:\n",
    "\n",
    "- Why was the Haversine formula chosen for distance calculations in your scenario?\n",
    "- What's the expected accuracy required for the traffic congestion scenario, and is the Earth's curvature relevant at such scales?\n",
    "- Have you compared the performance and accuracy of the Haversine formula with simpler approximations (e.g., Euclidean distance) or more precise methods (e.g., Vincenty's formula)?\n",
    "- Is the computational overhead justified by the increase in accuracy for your application's context?\n",
    "\n",
    "### How to Justify:\n",
    "You should explicitly state in your article something like:\n",
    "\n",
    "To calculate the geographical distance between two route points, we employ the Haversine formula, which accurately computes great-circle distances considering Earth’s curvature. This method is preferable for urban traffic optimization, as vehicle GPS data accuracy typically ranges from several meters to tens of meters. While simpler approximations (e.g., Euclidean) neglect curvature, potentially leading to inaccuracies over distances longer than a few kilometers, more precise methods such as Vincenty's formula offer negligible additional accuracy improvements in urban-scale scenarios and come with higher computational costs, making the Haversine formula an optimal balance.\n",
    "\n",
    "```\n",
    "Haversine formula overview:\n",
    "Sinnott, R.W. (1984). \"Virtues of the Haversine\", Sky and Telescope, 68(2), 159.\n",
    "Distance formula comparisons:\n",
    "Vincenty, T. (1975). \"Direct and inverse solutions of geodesics on the ellipsoid with application of nested equations\", Survey Review, 23(176), 88-93.\n",
    "Computational aspects:\n",
    "Gade, K. (2010). \"A Non-singular Horizontal Position Representation\", Journal of Navigation, 63(3), 395-417.\n",
    "```"
   ]
  },
  {
   "cell_type": "markdown",
   "id": "ee86df09",
   "metadata": {},
   "source": []
  }
 ],
 "metadata": {
  "language_info": {
   "name": "python"
  }
 },
 "nbformat": 4,
 "nbformat_minor": 5
}
