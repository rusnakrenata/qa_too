{
 "cells": [
  {
   "cell_type": "markdown",
   "id": "d11ea456",
   "metadata": {},
   "source": [
    "## ❗ Problem Complexity: Vehicle-to-Route Assignment via QUBO\n",
    "\n",
    "We solve the problem of assigning each vehicle to exactly one route (from a small set of valid alternatives) in a way that **minimizes global congestion**. The QUBO objective is:\n",
    "\n",
    "\\[\n",
    "\\min_x \\quad f(x) = \\sum_{i=0}^{n-1} \\sum_{j=0}^{n-1} \\sum_{k_1=0}^{t-1} \\sum_{k_2=0}^{t-1} w[i][j][k_1][k_2] \\cdot x_i^{k_1} \\cdot x_j^{k_2}\n",
    "\\quad \\text{subject to } \\sum_{k=0}^{t-1} x_i^k = 1 \\quad \\forall i\n",
    "\\]\n",
    "\n",
    "Each binary variable \\( x_i^k \\in \\{0, 1\\} \\) encodes whether vehicle \\( i \\) is assigned to route \\( k \\). This problem has:\n",
    "\n",
    "- A **quadratic objective function**\n",
    "- A **one-hot constraint** per vehicle\n",
    "- A **binary decision space**\n",
    "\n",
    "---\n",
    "\n",
    "### 🧠 Related Problem Class\n",
    "\n",
    "This is a special case of the **Quadratic Assignment Problem (QAP)** and falls into the broader family of:\n",
    "\n",
    "- Quadratic Binary Programming with one-hot constraints\n",
    "- Max-Cut, Max 2-SAT, and Set Packing when simplified\n",
    "- NP-Hard combinatorial optimization\n",
    "\n",
    "---\n",
    "\n",
    "### 📈 Time Complexity\n",
    "\n",
    "In Big-O notation:\n",
    "\n",
    "| Component                  | Complexity               |\n",
    "|---------------------------|--------------------------|\n",
    "| Search space              | \\( \\mathcal{O}(t^n) \\)   |\n",
    "| Greedy heuristic          | \\( \\mathcal{O}(n^2) \\)   |\n",
    "| Simulated Annealing (SA) | \\( \\mathcal{O}(n \\cdot T) \\), T = iterations |\n",
    "| QUBO matrix construction  | \\( \\mathcal{O}(n^2 \\cdot t^2) \\) |\n",
    "| ILP/CP solvers            | Exponential in worst case |\n",
    "\n",
    "---\n",
    "\n",
    "### 📌 For Our Setup:\n",
    "- Number of vehicles \\( n = 8000 \\)\n",
    "- Number of routes per vehicle \\( t = 2 \\)\n",
    "- Search space size: \\( 2^{8000} \\) ← infeasible for brute-force\n",
    "\n",
    "---\n",
    "\n",
    "### ✅ Why QUBO Is Used\n",
    "\n",
    "- QUBO formulation naturally captures one-hot constraints and pairwise interactions\n",
    "- Allows heuristic solvers like **D-Wave Hybrid**, **Simulated Annealing**, etc.\n",
    "- Enables exploration of large solution spaces without full enumeration\n",
    "\n",
    "---\n",
    "\n",
    "### 📚 Conclusion\n",
    "\n",
    "This problem is **NP-Hard** and has **exponential complexity** in the number of vehicles. QUBO-based heuristics, particularly hybrid quantum-classical solvers, offer scalable alternatives for near-optimal solutions when exact methods like ILP or CP are infeasible.\n"
   ]
  },
  {
   "cell_type": "markdown",
   "id": "06132327",
   "metadata": {},
   "source": []
  },
  {
   "cell_type": "markdown",
   "id": "d8249c5c",
   "metadata": {},
   "source": [
    "###HEXALY vs QUROBI QAP"
   ]
  },
  {
   "cell_type": "markdown",
   "id": "ea00f78d",
   "metadata": {},
   "source": []
  },
  {
   "cell_type": "markdown",
   "id": "62cedc41",
   "metadata": {},
   "source": [
    "https://www.hexaly.com/benchmarks/hexaly-vs-gurobi-quadratic-assignment-problem"
   ]
  },
  {
   "cell_type": "markdown",
   "id": "1cfc4d12",
   "metadata": {},
   "source": []
  }
 ],
 "metadata": {
  "language_info": {
   "name": "python"
  }
 },
 "nbformat": 4,
 "nbformat_minor": 5
}
