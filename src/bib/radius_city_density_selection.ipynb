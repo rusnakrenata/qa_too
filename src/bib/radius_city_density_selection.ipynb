{
 "cells": [
  {
   "cell_type": "markdown",
   "id": "d3c002f2",
   "metadata": {},
   "source": [
    "## Estimating Vehicle Distribution Area\n",
    "\n",
    "### Step 1: Estimate Vehicle Density\n",
    "\n",
    "Typical urban vehicle density during peak hour (in UK/European cities):\n",
    "\n",
    "- **City center**: 2,000–5,000 vehicles/km² (very dense, e.g., central London)  \n",
    "- **Urban area (mixed residential/commercial)**: 500–1,500 vehicles/km²  \n",
    "- **Suburban**: 100–500 vehicles/km²  \n",
    "\n",
    "For **Cardiff**, a realistic average for the **urban area during peak hour** is approximately:\n",
    "\n",
    "\\[\n",
    "\\text{Vehicle density} \\approx 1000 \\, \\text{vehicles/km}^2\n",
    "\\]\n",
    "\n",
    "---\n",
    "\n",
    "### Step 2: Calculate Required Area\n",
    "\n",
    "\\[\n",
    "\\text{Area needed} = \\frac{\\text{Number of vehicles}}{\\text{Vehicle density}}\n",
    "\\]\n",
    "\n",
    "\\[\n",
    "\\text{Area needed} = \\frac{25000}{1000} = 25 \\, \\text{km}^2\n",
    "\\]\n",
    "\n",
    "---\n",
    "\n",
    "### Step 3: Convert Area to Radius\n",
    "\n",
    "We assume a circular region:\n",
    "\n",
    "\\[\n",
    "\\text{Area} = \\pi r^2 \\Rightarrow r = \\sqrt{\\frac{\\text{Area}}{\\pi}}\n",
    "\\]\n",
    "\n",
    "\\[\n",
    "r = \\sqrt{\\frac{25}{\\pi}} \\approx 2.82 \\, \\text{km}\n",
    "\\]\n",
    "\n",
    "---\n",
    "\n",
    "### ✅ Conclusion\n",
    "\n",
    "To accommodate **25,000 vehicles** at a density of **1,000 vehicles/km²**, the required area is **25 km²**, corresponding to a **circular region with radius ≈ 2.82 km**.\n"
   ]
  },
  {
   "cell_type": "markdown",
   "id": "b0dfcb94",
   "metadata": {},
   "source": []
  },
  {
   "cell_type": "markdown",
   "id": "acaaeb45",
   "metadata": {},
   "source": []
  }
 ],
 "metadata": {
  "language_info": {
   "name": "python"
  }
 },
 "nbformat": 4,
 "nbformat_minor": 5
}
